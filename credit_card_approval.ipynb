{
 "cells": [
  {
   "cell_type": "markdown",
   "id": "9948f52d-83cf-4935-b3c3-b4d45cece42d",
   "metadata": {},
   "source": [
    "## Dataset #1: Credit Card Risk"
   ]
  },
  {
   "cell_type": "code",
   "execution_count": null,
   "id": "8a38bf48-fd7e-4887-aa5e-63d8b187ae03",
   "metadata": {},
   "outputs": [],
   "source": [
    "pip install git+https://github.com/gavin-s-smith/mcrforest"
   ]
  },
  {
   "cell_type": "code",
   "execution_count": null,
   "id": "34d59339-0821-4aad-8351-a06ce04cf4e0",
   "metadata": {},
   "outputs": [],
   "source": [
    "import seaborn as sns\n",
    "import matplotlib.pyplot as plt\n",
    "\n",
    "def plot_mcr(df_in):\n",
    "    df_in = df_in.copy()\n",
    "    df_in.columns = [ x.replace('MCR+', 'MCR- (lollypops) | MCR+ (bars)') for x in df_in.columns]\n",
    "    ax = sns.barplot(x='MCR- (lollypops) | MCR+ (bars)',y='variable',data=df_in)\n",
    "\n",
    "    plt.hlines(y=range(df_in.shape[0]), xmin=0, xmax=df_in['MCR-'], color='skyblue')\n",
    "    plt.plot(df_in['MCR-'], range(df_in.shape[0]), \"o\", color = 'skyblue')"
   ]
  },
  {
   "cell_type": "code",
   "execution_count": 11,
   "id": "9f198174-bbbf-433b-83b4-22ea3c32217d",
   "metadata": {},
   "outputs": [],
   "source": [
    "import pandas as pd\n",
    "import mcrforest\n",
    "df = pd.read_csv(\"clean_dataset.csv\")"
   ]
  },
  {
   "cell_type": "code",
   "execution_count": 13,
   "id": "9bf9e1fb",
   "metadata": {},
   "outputs": [],
   "source": [
    "from sklearn import  datasets\n",
    "import numpy as np\n",
    "import pandas as pd\n",
    "from sklearn.model_selection import train_test_split\n",
    "\n",
    "#-- Define you training input and output\n",
    "y = df[\"Approved\"]\n",
    "X = df.loc[:, ~df.columns.isin(['Approved','Industry','ZipCode'])]\n",
    "cleanup = {\"Ethnicity\": {\"Other\": 4, \"Latino\": 3, \"Asian\": 2, \"White\": 1, \"Black\": 0}, \"Citizen\": {\"ByBirth\": 0, \"ByOtherMeans\": 1, \"Temporary\": 2}}\n",
    "X.replace(cleanup, inplace = True)                               \n",
    "# Split off a held-out test set\n",
    "X_train, X_test, y_train, y_test = train_test_split( X, y, test_size=0.20, random_state=42, shuffle = True)"
   ]
  },
  {
   "cell_type": "code",
   "execution_count": 17,
   "id": "8b2e0545",
   "metadata": {},
   "outputs": [
    {
     "name": "stdout",
     "output_type": "stream",
     "text": [
      "RF Reference Model ACC_train: 0.9927536231884058\n",
      "RF Reference Model ACC_test: 0.8260869565217391\n",
      "RF best model params:  RandomForestClassifier(max_features=1, min_impurity_decrease=0.0001,\n",
      "                       n_estimators=200, random_state=13111985)\n",
      "CPU times: user 2.32 s, sys: 3.99 ms, total: 2.33 s\n",
      "Wall time: 2.33 s\n"
     ]
    }
   ],
   "source": [
    "%%time\n",
    "from sklearn.model_selection import KFold, GridSearchCV\n",
    "from mcrforest.forest import RandomForestClassifier\n",
    "from sklearn.metrics import accuracy_score\n",
    "from mcrforest.forest import RandomForestRegressor\n",
    "from sklearn.model_selection import GridSearchCV\n",
    "from mcrforest.Datasets import get_demo_dataset\n",
    "\n",
    "redo_cv = False\n",
    "if redo_cv:\n",
    "    # For the model class RF\n",
    "    kf = KFold(n_splits=3, shuffle=True, random_state=42)\n",
    "    # For the model class RF\n",
    "    search = {'n_estimators':[200, 100, 50],'min_impurity_decrease':[0.0001,0.001,0.01],'max_features':[1,'auto']}\n",
    "    rf_cv_model = GridSearchCV(RandomForestClassifier(bootstrap=False, random_state = 13111985), search, cv = kf, refit = True, verbose = 10)\n",
    "    rf_best_model = rf_cv_model.fit(X_train, y_train.values.flatten()).best_estimator_\n",
    "    print(rf_best_model.get_params())\n",
    "else:\n",
    "    best_params = {'bootstrap': False, 'ccp_alpha': 0.0, 'class_weight': None, 'criterion': 'gini', 'max_depth': None, 'max_features': 1, 'max_leaf_nodes': None,\n",
    "                   'max_samples': None, 'mcr_tree_equivilient_tol': 1e-05, 'min_impurity_decrease': 0.0001, 'min_impurity_split': None, 'min_samples_leaf': 1, \n",
    "                   'min_samples_split': 2, 'min_weight_fraction_leaf': 0.0, 'n_estimators': 200, 'n_jobs': None, 'oob_score': False, 'performance_equivilence': True,\n",
    "                   'random_state': 13111985, 'spoof_as_sklearn': False, 'verbose': 0, 'warm_start': False}    \n",
    "    rf_best_model = RandomForestClassifier(**best_params)\n",
    "    rf_best_model.fit(X_train, y_train.values.flatten())\n",
    "\n",
    "print('RF Reference Model ACC_train: {}'.format(accuracy_score(y_train, rf_best_model.predict(X_train))))\n",
    "print('RF Reference Model ACC_test: {}'.format(accuracy_score(y_test, rf_best_model.predict(X_test))))\n",
    "print('RF best model params: ',rf_best_model)"
   ]
  },
  {
   "cell_type": "code",
   "execution_count": 18,
   "id": "57956b8d",
   "metadata": {},
   "outputs": [
    {
     "name": "stderr",
     "output_type": "stream",
     "text": [
      "100%|██████████| 13/13 [02:40<00:00, 12.31s/it]"
     ]
    },
    {
     "name": "stdout",
     "output_type": "stream",
     "text": [
      "CPU times: user 2min 38s, sys: 1.77 s, total: 2min 40s\n",
      "Wall time: 2min 40s\n"
     ]
    },
    {
     "name": "stderr",
     "output_type": "stream",
     "text": [
      "\n"
     ]
    }
   ],
   "source": [
    "%%time\n",
    "import mcrforest\n",
    "from tqdm import tqdm\n",
    "variables = []\n",
    "mcrp = []\n",
    "mcrm = []\n",
    "i = 0\n",
    "for c in tqdm(X_train.columns):\n",
    "    variables.append(c)\n",
    "    mcr_p = rf_best_model.mcr( X_train.values,y_train.values.flatten(), np.asarray([i]), \n",
    "                        num_times = 100, debug = False, mcr_type = 1, mcr_as_ratio=False)\n",
    "\n",
    "    mcr_m = rf_best_model.mcr( X_train.values,y_train.values.flatten(), np.asarray([i]), \n",
    "                        num_times = 100, debug = False, mcr_type = -1, mcr_as_ratio=False)\n",
    "\n",
    "    mcrm.append(mcr_m)\n",
    "    mcrp.append(mcr_p)\n",
    "    i += 1\n",
    "\n",
    "rf_results = pd.DataFrame({'variable':variables, 'MCR+':mcrp, 'MCR-':mcrm})"
   ]
  },
  {
   "cell_type": "code",
   "execution_count": 19,
   "id": "efe13bb4",
   "metadata": {},
   "outputs": [
    {
     "data": {
      "image/png": "[encoded data removed]",
      "text/plain": [
       "<Figure size 432x288 with 1 Axes>"
      ]
     },
     "metadata": {
      "needs_background": "light"
     },
     "output_type": "display_data"
    }
   ],
   "source": [
    "plot_mcr(rf_results)"
   ]
  },
  {
   "cell_type": "code",
   "execution_count": null,
   "id": "71f62844-e09e-4229-bf95-6e31a56ca4de",
   "metadata": {},
   "outputs": [
    {
     "data": {
      "text/plain": [
       "Text(0.5, 0, 'Decrease in impurity score')"
      ]
     },
     "execution_count": 11,
     "metadata": {},
     "output_type": "execute_result"
    },
    {
     "data": {
      "image/png": "[encoded data removed]",
      "text/plain": [
       "<Figure size 432x288 with 1 Axes>"
      ]
     },
     "metadata": {
      "needs_background": "light"
     },
     "output_type": "display_data"
    }
   ],
   "source": [
    "feature_names = list(X.columns.values)\n",
    "\n",
    "mdi_importances = pd.Series(\n",
    "    rf_best_model[-1].feature_importances_, index=feature_names\n",
    ").sort_values(ascending=True)\n",
    "mdi_importances\n",
    "\n",
    "ax = mdi_importances.plot.barh()\n",
    "ax.set_title(\"Mean Decrease Impurity Importances\")\n",
    "ax.set_xlabel(\"Decrease in impurity score\")\n",
    "\n"
   ]
  },
  {
   "cell_type": "code",
   "execution_count": 21,
   "id": "16185b5d-a312-4bdf-9dcd-e7591a6ae5e8",
   "metadata": {},
   "outputs": [],
   "source": [
    "from sklearn.inspection import permutation_importance\n",
    "\n",
    "result = permutation_importance(\n",
    "    rf_best_model, X_train, y_train, n_repeats=50, random_state=42, n_jobs=2\n",
    ")\n",
    "\n",
    "sorted_importances_idx = result.importances_mean.argsort()\n",
    "importances = pd.DataFrame(\n",
    "    result.importances[sorted_importances_idx].T,\n",
    "    columns=X.columns[sorted_importances_idx],\n",
    ")"
   ]
  },
  {
   "cell_type": "code",
   "execution_count": null,
   "id": "b5d48b7a-ba97-4c36-84a5-b3d2b1c24f35",
   "metadata": {},
   "outputs": [
    {
     "data": {
      "image/png": "[encoded data removed]",
      "text/plain": [
       "<Figure size 432x288 with 1 Axes>"
      ]
     },
     "metadata": {
      "needs_background": "light"
     },
     "output_type": "display_data"
    }
   ],
   "source": [
    "ax = importances.plot.box(vert=False, whis=10)\n",
    "ax.set_title(\"Permutation Importances\")\n",
    "ax.axvline(x=0, color=\"k\", linestyle=\"--\")\n",
    "ax.set_xlabel(\"Decrease in accuracy score\")\n",
    "ax.figure.tight_layout()"
   ]
  }
 ],
 "metadata": {
  "colab": {
   "name": "Welcome to DataCamp Workspaces.ipynb",
   "provenance": []
  },
  "editor": "DataCamp Workspace",
  "kernelspec": {
   "display_name": "Python 3 (ipykernel)",
   "language": "python",
   "name": "python3"
  },
  "language_info": {
   "codemirror_mode": {
    "name": "ipython",
    "version": 3
   },
   "file_extension": ".py",
   "mimetype": "text/x-python",
   "name": "python",
   "nbconvert_exporter": "python",
   "pygments_lexer": "ipython3",
   "version": "3.8.10"
  }
 },
 "nbformat": 4,
 "nbformat_minor": 5
}
