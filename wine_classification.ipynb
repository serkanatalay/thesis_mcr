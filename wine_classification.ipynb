{
 "cells": [
  {
   "cell_type": "code",
   "execution_count": 1,
   "id": "a3ef5c4c-e58b-492c-afdb-d1fb83975fe1",
   "metadata": {},
   "outputs": [
    {
     "name": "stdout",
     "output_type": "stream",
     "text": [
      "Collecting git+https://github.com/gavin-s-smith/mcrforest\n",
      "  Cloning https://github.com/gavin-s-smith/mcrforest to /tmp/pip-req-build-wubod489\n",
      "  Running command git clone --filter=blob:none -q https://github.com/gavin-s-smith/mcrforest /tmp/pip-req-build-wubod489\n",
      "  Resolved https://github.com/gavin-s-smith/mcrforest to commit 3e450eeb210bbc13e03161cf09878def13d6aa41\n",
      "  Preparing metadata (setup.py) ... \u001b[?25ldone\n",
      "\u001b[?25hBuilding wheels for collected packages: mcrforest\n",
      "  Building wheel for mcrforest (setup.py) ... \u001b[?25ldone\n",
      "\u001b[?25h  Created wheel for mcrforest: filename=mcrforest-3.0.2-cp38-cp38-linux_x86_64.whl size=4045926 sha256=d784b3097ddc932229f9d19e2310f27a739b494e097c23de2d45033e871b0ed4\n",
      "  Stored in directory: /tmp/pip-ephem-wheel-cache-ca65uuk3/wheels/ee/af/7f/4805c047bafb01b636960ad5f1795b1c59a8afc0aad07c1c1d\n",
      "Successfully built mcrforest\n",
      "Installing collected packages: mcrforest\n",
      "Successfully installed mcrforest-3.0.2\n",
      "\u001b[33mWARNING: You are using pip version 21.3.1; however, version 22.1.1 is available.\n",
      "You should consider upgrading via the '/usr/bin/python3 -m pip install --upgrade pip' command.\u001b[0m\n",
      "Note: you may need to restart the kernel to use updated packages.\n"
     ]
    }
   ],
   "source": [
    "pip install git+https://github.com/gavin-s-smith/mcrforest"
   ]
  },
  {
   "cell_type": "code",
   "execution_count": 2,
   "id": "d0eb4f16-5a99-460d-a5ba-706b7ef0bbe7",
   "metadata": {
    "id": "bA5ajAmk7XH6"
   },
   "outputs": [],
   "source": [
    "import seaborn as sns\n",
    "import pandas as pd\n",
    "import numpy as np\n",
    "import matplotlib.pyplot as plt\n",
    "from mcrforest.forest import RandomForestRegressor\n",
    "from sklearn.model_selection import GridSearchCV\n",
    "from mcrforest.Datasets import get_demo_dataset\n",
    "from sklearn.preprocessing import LabelEncoder"
   ]
  },
  {
   "cell_type": "code",
   "execution_count": 3,
   "id": "ca083a04-3aeb-4926-9469-b4eb4fe180a9",
   "metadata": {},
   "outputs": [
    {
     "data": {
      "application/com.datacamp.data-table.v1+json": {
       "is_truncated": false,
       "table": {
        "data": [
         {
          "alcalinity_of_ash": 15.6,
          "alcohol": 14.23,
          "ash": 2.43,
          "color_intensity": 5.64,
          "flavanoids": 3.06,
          "hue": 1.04,
          "index": 0,
          "magnesium": 127,
          "malic_acid": 1.71,
          "nonflavanoid_phenols": 0.28,
          "od280/od315_of_diluted_wines": 3.92,
          "proanthocyanins": 2.29,
          "proline": 1065,
          "target": 0,
          "total_phenols": 2.8
         },
         {
          "alcalinity_of_ash": 11.2,
          "alcohol": 13.2,
          "ash": 2.14,
          "color_intensity": 4.38,
          "flavanoids": 2.76,
          "hue": 1.05,
          "index": 1,
          "magnesium": 100,
          "malic_acid": 1.78,
          "nonflavanoid_phenols": 0.26,
          "od280/od315_of_diluted_wines": 3.4,
          "proanthocyanins": 1.28,
          "proline": 1050,
          "target": 0,
          "total_phenols": 2.65
         },
         {
          "alcalinity_of_ash": 18.6,
          "alcohol": 13.16,
          "ash": 2.67,
          "color_intensity": 5.68,
          "flavanoids": 3.24,
          "hue": 1.03,
          "index": 2,
          "magnesium": 101,
          "malic_acid": 2.36,
          "nonflavanoid_phenols": 0.3,
          "od280/od315_of_diluted_wines": 3.17,
          "proanthocyanins": 2.81,
          "proline": 1185,
          "target": 0,
          "total_phenols": 2.8
         },
         {
          "alcalinity_of_ash": 16.8,
          "alcohol": 14.37,
          "ash": 2.5,
          "color_intensity": 7.8,
          "flavanoids": 3.49,
          "hue": 0.86,
          "index": 3,
          "magnesium": 113,
          "malic_acid": 1.95,
          "nonflavanoid_phenols": 0.24,
          "od280/od315_of_diluted_wines": 3.45,
          "proanthocyanins": 2.18,
          "proline": 1480,
          "target": 0,
          "total_phenols": 3.85
         },
         {
          "alcalinity_of_ash": 21,
          "alcohol": 13.24,
          "ash": 2.87,
          "color_intensity": 4.32,
          "flavanoids": 2.69,
          "hue": 1.04,
          "index": 4,
          "magnesium": 118,
          "malic_acid": 2.59,
          "nonflavanoid_phenols": 0.39,
          "od280/od315_of_diluted_wines": 2.93,
          "proanthocyanins": 1.82,
          "proline": 735,
          "target": 0,
          "total_phenols": 2.8
         }
        ],
        "schema": {
         "fields": [
          {
           "name": "index",
           "type": "integer"
          },
          {
           "name": "alcohol",
           "type": "number"
          },
          {
           "name": "malic_acid",
           "type": "number"
          },
          {
           "name": "ash",
           "type": "number"
          },
          {
           "name": "alcalinity_of_ash",
           "type": "number"
          },
          {
           "name": "magnesium",
           "type": "number"
          },
          {
           "name": "total_phenols",
           "type": "number"
          },
          {
           "name": "flavanoids",
           "type": "number"
          },
          {
           "name": "nonflavanoid_phenols",
           "type": "number"
          },
          {
           "name": "proanthocyanins",
           "type": "number"
          },
          {
           "name": "color_intensity",
           "type": "number"
          },
          {
           "name": "hue",
           "type": "number"
          },
          {
           "name": "od280/od315_of_diluted_wines",
           "type": "number"
          },
          {
           "name": "proline",
           "type": "number"
          },
          {
           "name": "target",
           "type": "number"
          }
         ],
         "pandas_version": "0.20.0",
         "primaryKey": [
          "index"
         ]
        }
       },
       "total_rows": 5
      },
      "text/html": [
       "<div>\n",
       "<style scoped>\n",
       "    .dataframe tbody tr th:only-of-type {\n",
       "        vertical-align: middle;\n",
       "    }\n",
       "\n",
       "    .dataframe tbody tr th {\n",
       "        vertical-align: top;\n",
       "    }\n",
       "\n",
       "    .dataframe thead th {\n",
       "        text-align: right;\n",
       "    }\n",
       "</style>\n",
       "<table border=\"1\" class=\"dataframe\">\n",
       "  <thead>\n",
       "    <tr style=\"text-align: right;\">\n",
       "      <th></th>\n",
       "      <th>alcohol</th>\n",
       "      <th>malic_acid</th>\n",
       "      <th>ash</th>\n",
       "      <th>alcalinity_of_ash</th>\n",
       "      <th>magnesium</th>\n",
       "      <th>total_phenols</th>\n",
       "      <th>flavanoids</th>\n",
       "      <th>nonflavanoid_phenols</th>\n",
       "      <th>proanthocyanins</th>\n",
       "      <th>color_intensity</th>\n",
       "      <th>hue</th>\n",
       "      <th>od280/od315_of_diluted_wines</th>\n",
       "      <th>proline</th>\n",
       "      <th>target</th>\n",
       "    </tr>\n",
       "  </thead>\n",
       "  <tbody>\n",
       "    <tr>\n",
       "      <th>0</th>\n",
       "      <td>14.23</td>\n",
       "      <td>1.71</td>\n",
       "      <td>2.43</td>\n",
       "      <td>15.6</td>\n",
       "      <td>127.0</td>\n",
       "      <td>2.80</td>\n",
       "      <td>3.06</td>\n",
       "      <td>0.28</td>\n",
       "      <td>2.29</td>\n",
       "      <td>5.64</td>\n",
       "      <td>1.04</td>\n",
       "      <td>3.92</td>\n",
       "      <td>1065.0</td>\n",
       "      <td>0.0</td>\n",
       "    </tr>\n",
       "    <tr>\n",
       "      <th>1</th>\n",
       "      <td>13.20</td>\n",
       "      <td>1.78</td>\n",
       "      <td>2.14</td>\n",
       "      <td>11.2</td>\n",
       "      <td>100.0</td>\n",
       "      <td>2.65</td>\n",
       "      <td>2.76</td>\n",
       "      <td>0.26</td>\n",
       "      <td>1.28</td>\n",
       "      <td>4.38</td>\n",
       "      <td>1.05</td>\n",
       "      <td>3.40</td>\n",
       "      <td>1050.0</td>\n",
       "      <td>0.0</td>\n",
       "    </tr>\n",
       "    <tr>\n",
       "      <th>2</th>\n",
       "      <td>13.16</td>\n",
       "      <td>2.36</td>\n",
       "      <td>2.67</td>\n",
       "      <td>18.6</td>\n",
       "      <td>101.0</td>\n",
       "      <td>2.80</td>\n",
       "      <td>3.24</td>\n",
       "      <td>0.30</td>\n",
       "      <td>2.81</td>\n",
       "      <td>5.68</td>\n",
       "      <td>1.03</td>\n",
       "      <td>3.17</td>\n",
       "      <td>1185.0</td>\n",
       "      <td>0.0</td>\n",
       "    </tr>\n",
       "    <tr>\n",
       "      <th>3</th>\n",
       "      <td>14.37</td>\n",
       "      <td>1.95</td>\n",
       "      <td>2.50</td>\n",
       "      <td>16.8</td>\n",
       "      <td>113.0</td>\n",
       "      <td>3.85</td>\n",
       "      <td>3.49</td>\n",
       "      <td>0.24</td>\n",
       "      <td>2.18</td>\n",
       "      <td>7.80</td>\n",
       "      <td>0.86</td>\n",
       "      <td>3.45</td>\n",
       "      <td>1480.0</td>\n",
       "      <td>0.0</td>\n",
       "    </tr>\n",
       "    <tr>\n",
       "      <th>4</th>\n",
       "      <td>13.24</td>\n",
       "      <td>2.59</td>\n",
       "      <td>2.87</td>\n",
       "      <td>21.0</td>\n",
       "      <td>118.0</td>\n",
       "      <td>2.80</td>\n",
       "      <td>2.69</td>\n",
       "      <td>0.39</td>\n",
       "      <td>1.82</td>\n",
       "      <td>4.32</td>\n",
       "      <td>1.04</td>\n",
       "      <td>2.93</td>\n",
       "      <td>735.0</td>\n",
       "      <td>0.0</td>\n",
       "    </tr>\n",
       "  </tbody>\n",
       "</table>\n",
       "</div>"
      ],
      "text/plain": [
       "   alcohol  malic_acid   ash  alcalinity_of_ash  magnesium  total_phenols  \\\n",
       "0    14.23        1.71  2.43               15.6      127.0           2.80   \n",
       "1    13.20        1.78  2.14               11.2      100.0           2.65   \n",
       "2    13.16        2.36  2.67               18.6      101.0           2.80   \n",
       "3    14.37        1.95  2.50               16.8      113.0           3.85   \n",
       "4    13.24        2.59  2.87               21.0      118.0           2.80   \n",
       "\n",
       "   flavanoids  nonflavanoid_phenols  proanthocyanins  color_intensity   hue  \\\n",
       "0        3.06                  0.28             2.29             5.64  1.04   \n",
       "1        2.76                  0.26             1.28             4.38  1.05   \n",
       "2        3.24                  0.30             2.81             5.68  1.03   \n",
       "3        3.49                  0.24             2.18             7.80  0.86   \n",
       "4        2.69                  0.39             1.82             4.32  1.04   \n",
       "\n",
       "   od280/od315_of_diluted_wines  proline  target  \n",
       "0                          3.92   1065.0     0.0  \n",
       "1                          3.40   1050.0     0.0  \n",
       "2                          3.17   1185.0     0.0  \n",
       "3                          3.45   1480.0     0.0  \n",
       "4                          2.93    735.0     0.0  "
      ]
     },
     "execution_count": 3,
     "metadata": {},
     "output_type": "execute_result"
    }
   ],
   "source": [
    "from sklearn.datasets import load_wine\n",
    "data = load_wine()\n",
    "data=pd.DataFrame(data=np.c_[data['data'],data['target']],columns=data['feature_names']+['target'])\n",
    "data.head()\n"
   ]
  },
  {
   "cell_type": "code",
   "execution_count": 4,
   "id": "80b35d69-68cd-4c95-9c69-0ec699e95d07",
   "metadata": {},
   "outputs": [],
   "source": [
    "from sklearn import  datasets\n",
    "from sklearn.model_selection import train_test_split\n",
    "\n",
    "#-- Define you training input and output\n",
    "y = data[\"target\"]\n",
    "X = data.loc[:, ~data.columns.isin(['target'])]\n",
    "\n",
    "# Split off a held-out test set\n",
    "X_train, X_test, y_train, y_test = train_test_split( X, y, test_size=0.5, random_state=42, shuffle = True, stratify=y)"
   ]
  },
  {
   "cell_type": "code",
   "execution_count": 35,
   "id": "77cb1ac4-635a-4a96-8603-b1a994aff24e",
   "metadata": {},
   "outputs": [
    {
     "name": "stdout",
     "output_type": "stream",
     "text": [
      "RF Reference Model ACC_train: 1.0\n",
      "RF Reference Model ACC_test: 0.9662921348314607\n",
      "RF best model params:  RandomForestClassifier(max_features=3, min_impurity_decrease=0.01,\n",
      "                       n_estimators=10, random_state=13111985)\n",
      "CPU times: user 63.3 ms, sys: 209 µs, total: 63.5 ms\n",
      "Wall time: 61.5 ms\n"
     ]
    }
   ],
   "source": [
    "%%time\n",
    "from sklearn.model_selection import KFold, GridSearchCV\n",
    "from mcrforest.forest import RandomForestClassifier\n",
    "from sklearn.metrics import accuracy_score\n",
    "from mcrforest.forest import RandomForestRegressor\n",
    "from sklearn.model_selection import GridSearchCV\n",
    "from mcrforest.Datasets import get_demo_dataset\n",
    "\n",
    "redo_cv = False\n",
    "if redo_cv:\n",
    "    # For the model class RF\n",
    "    kf = KFold(n_splits=3, shuffle=True, random_state=42)\n",
    "    # For the model class RF\n",
    "    search = {'n_estimators':[10],'min_impurity_decrease':[0.0001,0.001,0.01],'max_features':[1,'auto'],'max_depth': [3,5]}\n",
    "    rf_cv_model = GridSearchCV(RandomForestClassifier(bootstrap=False, random_state = 13111985), search, cv = kf, refit = True, verbose = 10)\n",
    "    rf_best_model = rf_cv_model.fit(X_train, y_train.values.flatten()).best_estimator_\n",
    "    print(rf_best_model.get_params())\n",
    "else:\n",
    "    best_params = {'bootstrap': False, 'ccp_alpha': 0.0, 'class_weight': None, 'criterion': 'gini', 'max_depth': None, 'max_features': 3, 'max_leaf_nodes': None, \n",
    "                   'max_samples': None, 'mcr_tree_equivilient_tol': 1e-05, 'min_impurity_decrease': 0.01, 'min_impurity_split': None, 'min_samples_leaf': 1, \n",
    "                   'min_samples_split': 2, 'min_weight_fraction_leaf': 0.0, 'n_estimators': 10, 'n_jobs': None, 'oob_score': False, 'performance_equivilence': True, \n",
    "                   'random_state': 13111985, 'spoof_as_sklearn': False, 'verbose': 0, 'warm_start': False}    \n",
    "    rf_best_model = RandomForestClassifier(**best_params)\n",
    "    rf_best_model.fit(X_train, y_train.values.flatten())\n",
    "\n",
    "print('RF Reference Model ACC_train: {}'.format(accuracy_score(y_train, rf_best_model.predict(X_train))))\n",
    "print('RF Reference Model ACC_test: {}'.format(accuracy_score(y_test, rf_best_model.predict(X_test))))\n",
    "print('RF best model params: ',rf_best_model)\n"
   ]
  },
  {
   "cell_type": "code",
   "execution_count": 36,
   "id": "0806db4a-2281-4976-9fce-7ce60df1364b",
   "metadata": {},
   "outputs": [],
   "source": [
    "import seaborn as sns\n",
    "import matplotlib.pyplot as plt\n",
    "\n",
    "def plot_mcr(df_in):\n",
    "    df_in = df_in.copy()\n",
    "    df_in.columns = [ x.replace('MCR+', 'MCR- (lollypops) | MCR+ (bars)') for x in df_in.columns]\n",
    "    ax = sns.barplot(x='MCR- (lollypops) | MCR+ (bars)',y='variable',data=df_in)\n",
    "\n",
    "    plt.hlines(y=range(df_in.shape[0]), xmin=0, xmax=df_in['MCR-'], color='skyblue')\n",
    "    plt.plot(df_in['MCR-'], range(df_in.shape[0]), \"o\", color = 'skyblue')"
   ]
  },
  {
   "cell_type": "code",
   "execution_count": 37,
   "id": "6f8f68d9-7e63-4cd7-b32f-15883c5b572e",
   "metadata": {},
   "outputs": [
    {
     "name": "stderr",
     "output_type": "stream",
     "text": [
      "100%|██████████| 13/13 [00:01<00:00, 11.37it/s]"
     ]
    },
    {
     "name": "stdout",
     "output_type": "stream",
     "text": [
      "CPU times: user 1.15 s, sys: 0 ns, total: 1.15 s\n",
      "Wall time: 1.15 s\n"
     ]
    },
    {
     "name": "stderr",
     "output_type": "stream",
     "text": [
      "\n"
     ]
    }
   ],
   "source": [
    "%%time\n",
    "import mcrforest\n",
    "from tqdm import tqdm\n",
    "variables = []\n",
    "mcrp = []\n",
    "mcrm = []\n",
    "i = 0\n",
    "for c in tqdm(X_train.columns):\n",
    "    variables.append(c)\n",
    "    mcr_p = rf_best_model.mcr( X_train.values,y_train.values.flatten(), np.asarray([i]), \n",
    "                        num_times = 100, debug = False, mcr_type = 1, mcr_as_ratio=False)\n",
    "\n",
    "    mcr_m = rf_best_model.mcr( X_train.values,y_train.values.flatten(), np.asarray([i]), \n",
    "                        num_times = 100, debug = False, mcr_type = -1, mcr_as_ratio=False)\n",
    "\n",
    "    mcrm.append(mcr_m)\n",
    "    mcrp.append(mcr_p)\n",
    "    i += 1\n",
    "\n",
    "rf_results = pd.DataFrame({'variable':variables, 'MCR+':mcrp, 'MCR-':mcrm})"
   ]
  },
  {
   "cell_type": "code",
   "execution_count": 38,
   "id": "285e463e-c4df-4147-9595-4283a42f95d6",
   "metadata": {},
   "outputs": [
    {
     "data": {
      "image/png": "[encoded data removed]",
      "text/plain": [
       "<Figure size 432x288 with 1 Axes>"
      ]
     },
     "metadata": {
      "needs_background": "light"
     },
     "output_type": "display_data"
    }
   ],
   "source": [
    "plot_mcr(rf_results)"
   ]
  },
  {
   "cell_type": "code",
   "execution_count": 39,
   "id": "44b6b42b-a2ce-4abe-8867-516370fdc017",
   "metadata": {},
   "outputs": [
    {
     "data": {
      "text/plain": [
       "Text(0.5, 0, 'Decrease in impurity score')"
      ]
     },
     "execution_count": 39,
     "metadata": {},
     "output_type": "execute_result"
    },
    {
     "data": {
      "image/png": "[encoded data removed]",
      "text/plain": [
       "<Figure size 432x288 with 1 Axes>"
      ]
     },
     "metadata": {
      "needs_background": "light"
     },
     "output_type": "display_data"
    }
   ],
   "source": [
    "feature_names = list(X.columns.values)\n",
    "\n",
    "mdi_importances = pd.Series(\n",
    "    rf_best_model[-1].feature_importances_, index=feature_names\n",
    ").sort_values(ascending=True)\n",
    "mdi_importances\n",
    "\n",
    "ax = mdi_importances.plot.barh()\n",
    "ax.set_title(\"Mean Decrease Impurity Importances\")\n",
    "ax.set_xlabel(\"Decrease in impurity score\")"
   ]
  },
  {
   "cell_type": "code",
   "execution_count": 40,
   "id": "7f6e578c-5fbb-480e-a51f-2585bb2e34c7",
   "metadata": {},
   "outputs": [
    {
     "data": {
      "image/png": "[encoded data removed]",
      "text/plain": [
       "<Figure size 432x288 with 1 Axes>"
      ]
     },
     "metadata": {
      "needs_background": "light"
     },
     "output_type": "display_data"
    }
   ],
   "source": [
    "from sklearn.inspection import permutation_importance\n",
    "\n",
    "result = permutation_importance(\n",
    "    rf_best_model, X_train, y_train, n_repeats=100, random_state=42, n_jobs=-1\n",
    ")\n",
    "\n",
    "sorted_importances_idx = result.importances_mean.argsort()\n",
    "importances = pd.DataFrame(\n",
    "    result.importances[sorted_importances_idx].T,\n",
    "    columns=X.columns[sorted_importances_idx],\n",
    ")\n",
    "ax = importances.plot.box(vert=False, whis=10)\n",
    "ax.set_title(\"Permutation Importances\")\n",
    "ax.axvline(x=0, color=\"k\", linestyle=\"--\")\n",
    "ax.set_xlabel(\"Decrease in accuracy score\")\n",
    "ax.figure.tight_layout()"
   ]
  },
  {
   "cell_type": "code",
   "execution_count": null,
   "id": "d64c3a0d-d60c-42ec-a523-13820f42d868",
   "metadata": {},
   "outputs": [
    {
     "data": {
      "text/plain": [
       "Text(0.5, 0, 'Decrease in accuracy score')"
      ]
     },
     "execution_count": 33,
     "metadata": {},
     "output_type": "execute_result"
    },
    {
     "data": {
      "image/png": "[encoded data removed]",
      "text/plain": [
       "<Figure size 432x288 with 1 Axes>"
      ]
     },
     "metadata": {
      "needs_background": "light"
     },
     "output_type": "display_data"
    }
   ],
   "source": [
    "ax = importances.plot.box(vert=False, whis=10)\n",
    "ax.set_title(\"Permutation Importances\")\n",
    "ax.axvline(x=0, color=\"k\", linestyle=\"--\")\n",
    "ax.set_xlabel(\"Decrease in accuracy score\")"
   ]
  },
  {
   "cell_type": "code",
   "execution_count": null,
   "id": "ffd62eb8-18c5-4906-840a-25a6c6e79ba7",
   "metadata": {},
   "outputs": [],
   "source": []
  }
 ],
 "metadata": {
  "colab": {
   "name": "Welcome to DataCamp Workspaces.ipynb",
   "provenance": []
  },
  "editor": "DataCamp Workspace",
  "kernelspec": {
   "display_name": "Python 3 (ipykernel)",
   "language": "python",
   "name": "python3"
  },
  "language_info": {
   "codemirror_mode": {
    "name": "ipython",
    "version": 3
   },
   "file_extension": ".py",
   "mimetype": "text/x-python",
   "name": "python",
   "nbconvert_exporter": "python",
   "pygments_lexer": "ipython3",
   "version": "3.8.10"
  }
 },
 "nbformat": 4,
 "nbformat_minor": 5
}
